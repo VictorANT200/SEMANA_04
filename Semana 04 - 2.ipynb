{
 "cells": [
  {
   "cell_type": "code",
   "execution_count": 1,
   "id": "a9bfa8cc",
   "metadata": {},
   "outputs": [],
   "source": [
    "#Se debe inciar siempre con una letra o con un guión abajo (nunca con otro simbolo)"
   ]
  },
  {
   "cell_type": "code",
   "execution_count": 2,
   "id": "59d729b1",
   "metadata": {},
   "outputs": [],
   "source": [
    "edad=23"
   ]
  },
  {
   "cell_type": "code",
   "execution_count": 3,
   "id": "c120ee3d",
   "metadata": {},
   "outputs": [
    {
     "data": {
      "text/plain": [
       "23"
      ]
     },
     "execution_count": 3,
     "metadata": {},
     "output_type": "execute_result"
    }
   ],
   "source": [
    "edad"
   ]
  },
  {
   "cell_type": "code",
   "execution_count": 4,
   "id": "527a41b3",
   "metadata": {},
   "outputs": [],
   "source": [
    "nombre=\"Victor\""
   ]
  },
  {
   "cell_type": "code",
   "execution_count": 5,
   "id": "ce8e0370",
   "metadata": {},
   "outputs": [
    {
     "data": {
      "text/plain": [
       "'Victor'"
      ]
     },
     "execution_count": 5,
     "metadata": {},
     "output_type": "execute_result"
    }
   ],
   "source": [
    "nombre"
   ]
  },
  {
   "cell_type": "code",
   "execution_count": 6,
   "id": "075b663b",
   "metadata": {},
   "outputs": [],
   "source": [
    "apellido= \"Tinoco Aguilar\""
   ]
  },
  {
   "cell_type": "code",
   "execution_count": 7,
   "id": "ea671299",
   "metadata": {},
   "outputs": [
    {
     "data": {
      "text/plain": [
       "'Tinoco Aguilar'"
      ]
     },
     "execution_count": 7,
     "metadata": {},
     "output_type": "execute_result"
    }
   ],
   "source": [
    "apellido"
   ]
  },
  {
   "cell_type": "code",
   "execution_count": 8,
   "id": "df17cf91",
   "metadata": {},
   "outputs": [],
   "source": [
    "nombre_completo= nombre+ \" \"+apellido"
   ]
  },
  {
   "cell_type": "code",
   "execution_count": 9,
   "id": "4ff8a6bc",
   "metadata": {},
   "outputs": [
    {
     "data": {
      "text/plain": [
       "'Victor Tinoco Aguilar'"
      ]
     },
     "execution_count": 9,
     "metadata": {},
     "output_type": "execute_result"
    }
   ],
   "source": [
    "nombre_completo"
   ]
  },
  {
   "cell_type": "code",
   "execution_count": 10,
   "id": "01fa1d7c",
   "metadata": {},
   "outputs": [],
   "source": [
    "#para saber el tipo de variable utilizamos la funcion type()"
   ]
  },
  {
   "cell_type": "code",
   "execution_count": 11,
   "id": "30c29d52",
   "metadata": {},
   "outputs": [],
   "source": [
    "numero= 50"
   ]
  },
  {
   "cell_type": "code",
   "execution_count": 12,
   "id": "fb14c2d3",
   "metadata": {},
   "outputs": [
    {
     "data": {
      "text/plain": [
       "int"
      ]
     },
     "execution_count": 12,
     "metadata": {},
     "output_type": "execute_result"
    }
   ],
   "source": [
    "type(numero)"
   ]
  },
  {
   "cell_type": "code",
   "execution_count": 13,
   "id": "c4a8aba9",
   "metadata": {},
   "outputs": [],
   "source": [
    "talla= 1.65"
   ]
  },
  {
   "cell_type": "code",
   "execution_count": 14,
   "id": "533afa98",
   "metadata": {},
   "outputs": [
    {
     "data": {
      "text/plain": [
       "float"
      ]
     },
     "execution_count": 14,
     "metadata": {},
     "output_type": "execute_result"
    }
   ],
   "source": [
    "type(talla)"
   ]
  },
  {
   "cell_type": "code",
   "execution_count": 15,
   "id": "a135ebfd",
   "metadata": {},
   "outputs": [],
   "source": [
    "# para convertir un numero en cadena utilizamos str()"
   ]
  },
  {
   "cell_type": "code",
   "execution_count": 16,
   "id": "79bbb5c1",
   "metadata": {},
   "outputs": [
    {
     "data": {
      "text/plain": [
       "'100'"
      ]
     },
     "execution_count": 16,
     "metadata": {},
     "output_type": "execute_result"
    }
   ],
   "source": [
    "numero=100\n",
    "cadena=str(numero)\n",
    "cadena"
   ]
  },
  {
   "cell_type": "code",
   "execution_count": 17,
   "id": "77f1c912",
   "metadata": {},
   "outputs": [
    {
     "data": {
      "text/plain": [
       "str"
      ]
     },
     "execution_count": 17,
     "metadata": {},
     "output_type": "execute_result"
    }
   ],
   "source": [
    "type(cadena)"
   ]
  },
  {
   "cell_type": "code",
   "execution_count": 18,
   "id": "4a84b53d",
   "metadata": {},
   "outputs": [
    {
     "data": {
      "text/plain": [
       "50"
      ]
     },
     "execution_count": 18,
     "metadata": {},
     "output_type": "execute_result"
    }
   ],
   "source": [
    "cadena2=\"50\"\n",
    "numero2=int(cadena2)\n",
    "numero2"
   ]
  },
  {
   "cell_type": "code",
   "execution_count": 19,
   "id": "65f3007d",
   "metadata": {},
   "outputs": [
    {
     "data": {
      "text/plain": [
       "int"
      ]
     },
     "execution_count": 19,
     "metadata": {},
     "output_type": "execute_result"
    }
   ],
   "source": [
    "type(numero2)"
   ]
  },
  {
   "cell_type": "code",
   "execution_count": null,
   "id": "e26ff8db",
   "metadata": {},
   "outputs": [],
   "source": []
  }
 ],
 "metadata": {
  "kernelspec": {
   "display_name": "Python 3 (ipykernel)",
   "language": "python",
   "name": "python3"
  },
  "language_info": {
   "codemirror_mode": {
    "name": "ipython",
    "version": 3
   },
   "file_extension": ".py",
   "mimetype": "text/x-python",
   "name": "python",
   "nbconvert_exporter": "python",
   "pygments_lexer": "ipython3",
   "version": "3.9.12"
  }
 },
 "nbformat": 4,
 "nbformat_minor": 5
}
