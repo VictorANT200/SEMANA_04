{
 "cells": [
  {
   "cell_type": "markdown",
   "id": "80a43ede",
   "metadata": {},
   "source": [
    "# SEMANA 4\n",
    "Victor Antonio Tinoco Aguilar"
   ]
  },
  {
   "cell_type": "code",
   "execution_count": 2,
   "id": "2197bc53",
   "metadata": {},
   "outputs": [
    {
     "name": "stdout",
     "output_type": "stream",
     "text": [
      "¿Cual es tu nombre?\n",
      "Victor\n",
      "HOLA Victor\n"
     ]
    }
   ],
   "source": [
    "#Funcion input()\n",
    "print (\"¿Cual es tu nombre?\")\n",
    "nombre=input()\n",
    "print(\"HOLA \" + nombre)"
   ]
  },
  {
   "cell_type": "code",
   "execution_count": 4,
   "id": "83800598",
   "metadata": {},
   "outputs": [
    {
     "name": "stdout",
     "output_type": "stream",
     "text": [
      "numero 1: \n",
      "78\n",
      "numero 2: \n",
      "12\n",
      "El resultado es 90\n"
     ]
    }
   ],
   "source": [
    "#Cuando ingresa un valor por teclado lo hace como cadena\n",
    "print(\"numero 1: \")\n",
    "numero1=input()\n",
    "print(\"numero 2: \")\n",
    "numero2=input()\n",
    "numero3=int(numero1)+int(numero2)\n",
    "print(f\"El resultado es {numero3}\")"
   ]
  },
  {
   "cell_type": "code",
   "execution_count": null,
   "id": "7bebc99b",
   "metadata": {},
   "outputs": [],
   "source": []
  }
 ],
 "metadata": {
  "kernelspec": {
   "display_name": "Python 3 (ipykernel)",
   "language": "python",
   "name": "python3"
  },
  "language_info": {
   "codemirror_mode": {
    "name": "ipython",
    "version": 3
   },
   "file_extension": ".py",
   "mimetype": "text/x-python",
   "name": "python",
   "nbconvert_exporter": "python",
   "pygments_lexer": "ipython3",
   "version": "3.9.12"
  }
 },
 "nbformat": 4,
 "nbformat_minor": 5
}
