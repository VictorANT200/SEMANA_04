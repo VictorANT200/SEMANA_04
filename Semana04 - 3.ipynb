{
 "cells": [
  {
   "cell_type": "code",
   "execution_count": 2,
   "id": "4128ebd6",
   "metadata": {},
   "outputs": [],
   "source": [
    "cadena= \"Universidad Nacional Tecnologica de Lima Sur\""
   ]
  },
  {
   "cell_type": "code",
   "execution_count": 3,
   "id": "b0fbea7b",
   "metadata": {},
   "outputs": [
    {
     "data": {
      "text/plain": [
       "'Universidad Nacional Tecnologica de Lima Sur'"
      ]
     },
     "execution_count": 3,
     "metadata": {},
     "output_type": "execute_result"
    }
   ],
   "source": [
    "cadena"
   ]
  },
  {
   "cell_type": "code",
   "execution_count": 4,
   "id": "9959b929",
   "metadata": {},
   "outputs": [],
   "source": [
    "#Universidad Nacional Tecnologica de Lima Sur\n",
    "#01234...\n",
    "#                                        -2-1"
   ]
  },
  {
   "cell_type": "code",
   "execution_count": 5,
   "id": "679fab9c",
   "metadata": {},
   "outputs": [
    {
     "data": {
      "text/plain": [
       "'r'"
      ]
     },
     "execution_count": 5,
     "metadata": {},
     "output_type": "execute_result"
    }
   ],
   "source": [
    "cadena[5]"
   ]
  },
  {
   "cell_type": "code",
   "execution_count": 6,
   "id": "d1847243",
   "metadata": {},
   "outputs": [
    {
     "data": {
      "text/plain": [
       "'d'"
      ]
     },
     "execution_count": 6,
     "metadata": {},
     "output_type": "execute_result"
    }
   ],
   "source": [
    "cadena[10]"
   ]
  },
  {
   "cell_type": "code",
   "execution_count": 7,
   "id": "850a233b",
   "metadata": {},
   "outputs": [
    {
     "data": {
      "text/plain": [
       "' '"
      ]
     },
     "execution_count": 7,
     "metadata": {},
     "output_type": "execute_result"
    }
   ],
   "source": [
    "cadena[11]"
   ]
  },
  {
   "cell_type": "code",
   "execution_count": 8,
   "id": "098c3fd7",
   "metadata": {},
   "outputs": [
    {
     "data": {
      "text/plain": [
       "'r'"
      ]
     },
     "execution_count": 8,
     "metadata": {},
     "output_type": "execute_result"
    }
   ],
   "source": [
    "cadena[-1]"
   ]
  },
  {
   "cell_type": "code",
   "execution_count": 9,
   "id": "acdd0569",
   "metadata": {},
   "outputs": [
    {
     "data": {
      "text/plain": [
       "' '"
      ]
     },
     "execution_count": 9,
     "metadata": {},
     "output_type": "execute_result"
    }
   ],
   "source": [
    "#tambien considera espacios en blanco\n",
    "cadena[11]"
   ]
  },
  {
   "cell_type": "code",
   "execution_count": 10,
   "id": "109795fb",
   "metadata": {},
   "outputs": [
    {
     "data": {
      "text/plain": [
       "'a'"
      ]
     },
     "execution_count": 10,
     "metadata": {},
     "output_type": "execute_result"
    }
   ],
   "source": [
    "cadena[-5]"
   ]
  },
  {
   "cell_type": "code",
   "execution_count": 11,
   "id": "d70e16fb",
   "metadata": {},
   "outputs": [
    {
     "data": {
      "text/plain": [
       "'T'"
      ]
     },
     "execution_count": 11,
     "metadata": {},
     "output_type": "execute_result"
    }
   ],
   "source": [
    "cadena[21]"
   ]
  },
  {
   "cell_type": "code",
   "execution_count": 12,
   "id": "cda68e4d",
   "metadata": {},
   "outputs": [
    {
     "data": {
      "text/plain": [
       "'T'"
      ]
     },
     "execution_count": 12,
     "metadata": {},
     "output_type": "execute_result"
    }
   ],
   "source": [
    "cadena[-23]"
   ]
  },
  {
   "cell_type": "code",
   "execution_count": 13,
   "id": "178977ac",
   "metadata": {},
   "outputs": [],
   "source": [
    "#Para mostrar una subcadena [desde: hasta una antes]\n",
    "#en Java era subString()\n"
   ]
  },
  {
   "cell_type": "code",
   "execution_count": 14,
   "id": "549c6de6",
   "metadata": {},
   "outputs": [
    {
     "data": {
      "text/plain": [
       "'versi'"
      ]
     },
     "execution_count": 14,
     "metadata": {},
     "output_type": "execute_result"
    }
   ],
   "source": [
    "cadena[3:8]"
   ]
  },
  {
   "cell_type": "code",
   "execution_count": 15,
   "id": "0501a583",
   "metadata": {},
   "outputs": [],
   "source": [
    "# Para saber el tamaño de la cadena usamos len()\n",
    "#incluye espacios en blanco"
   ]
  },
  {
   "cell_type": "code",
   "execution_count": 16,
   "id": "aa6b38f9",
   "metadata": {},
   "outputs": [
    {
     "data": {
      "text/plain": [
       "44"
      ]
     },
     "execution_count": 16,
     "metadata": {},
     "output_type": "execute_result"
    }
   ],
   "source": [
    "len(cadena)"
   ]
  },
  {
   "cell_type": "code",
   "execution_count": 17,
   "id": "c106c42e",
   "metadata": {},
   "outputs": [],
   "source": [
    "#Para mostrar en mayusculas upper()\n"
   ]
  },
  {
   "cell_type": "code",
   "execution_count": 22,
   "id": "9348e2c3",
   "metadata": {},
   "outputs": [
    {
     "data": {
      "text/plain": [
       "'victor antonio tinoco aguilar'"
      ]
     },
     "execution_count": 22,
     "metadata": {},
     "output_type": "execute_result"
    }
   ],
   "source": [
    "cadena2=\"victor antonio tinoco aguilar\"\n",
    "cadena2"
   ]
  },
  {
   "cell_type": "code",
   "execution_count": 25,
   "id": "5f1d8095",
   "metadata": {},
   "outputs": [
    {
     "data": {
      "text/plain": [
       "'UNIVERSIDAD NACIONAL TECNOLOGICA DE LIMA SUR'"
      ]
     },
     "execution_count": 25,
     "metadata": {},
     "output_type": "execute_result"
    }
   ],
   "source": [
    "cadena.upper()"
   ]
  },
  {
   "cell_type": "code",
   "execution_count": 26,
   "id": "4d858bfb",
   "metadata": {},
   "outputs": [
    {
     "data": {
      "text/plain": [
       "'VICTOR ANTONIO TINOCO AGUILAR'"
      ]
     },
     "execution_count": 26,
     "metadata": {},
     "output_type": "execute_result"
    }
   ],
   "source": [
    "cadena2.upper()"
   ]
  },
  {
   "cell_type": "code",
   "execution_count": 27,
   "id": "3504e32c",
   "metadata": {},
   "outputs": [],
   "source": [
    "#Para mostrar cadena en minusculas lower()"
   ]
  },
  {
   "cell_type": "code",
   "execution_count": 28,
   "id": "3a9df731",
   "metadata": {},
   "outputs": [
    {
     "data": {
      "text/plain": [
       "'universidad nacional tecnologica de lima sur'"
      ]
     },
     "execution_count": 28,
     "metadata": {},
     "output_type": "execute_result"
    }
   ],
   "source": [
    "cadena.lower()"
   ]
  },
  {
   "cell_type": "code",
   "execution_count": 29,
   "id": "dad6c450",
   "metadata": {},
   "outputs": [
    {
     "data": {
      "text/plain": [
       "'victor antonio tinoco aguilar'"
      ]
     },
     "execution_count": 29,
     "metadata": {},
     "output_type": "execute_result"
    }
   ],
   "source": [
    "cadena2.lower()"
   ]
  },
  {
   "cell_type": "code",
   "execution_count": 30,
   "id": "6b4a37c4",
   "metadata": {},
   "outputs": [],
   "source": [
    "#generar una lista a partir de una cadena .split()"
   ]
  },
  {
   "cell_type": "code",
   "execution_count": 31,
   "id": "8af6e5c1",
   "metadata": {},
   "outputs": [
    {
     "data": {
      "text/plain": [
       "['Universidad', 'Nacional', 'Tecnologica', 'de', 'Lima', 'Sur']"
      ]
     },
     "execution_count": 31,
     "metadata": {},
     "output_type": "execute_result"
    }
   ],
   "source": [
    "cadena.split()"
   ]
  },
  {
   "cell_type": "code",
   "execution_count": 32,
   "id": "52cc02c0",
   "metadata": {},
   "outputs": [
    {
     "data": {
      "text/plain": [
       "['victor', 'antonio', 'tinoco', 'aguilar']"
      ]
     },
     "execution_count": 32,
     "metadata": {},
     "output_type": "execute_result"
    }
   ],
   "source": [
    "cadena2.split()"
   ]
  },
  {
   "cell_type": "code",
   "execution_count": 33,
   "id": "904e5188",
   "metadata": {},
   "outputs": [],
   "source": [
    "#Generar una lista utilizando un criterio de separacion a partir de una cadena.\n",
    "#En este caso vamos a generar una lista de todo la lista\n",
    "#utilizando como criterio de separacion  la letra \"a\""
   ]
  },
  {
   "cell_type": "code",
   "execution_count": 36,
   "id": "55308d36",
   "metadata": {},
   "outputs": [
    {
     "data": {
      "text/plain": [
       "['Universid', 'd N', 'cion', 'l Tecnologic', ' de Lim', ' Sur']"
      ]
     },
     "execution_count": 36,
     "metadata": {},
     "output_type": "execute_result"
    }
   ],
   "source": [
    "cadena.split(\"a\")"
   ]
  },
  {
   "cell_type": "markdown",
   "id": "78ff219d",
   "metadata": {},
   "source": [
    "3 formas de concatenar"
   ]
  },
  {
   "cell_type": "code",
   "execution_count": 38,
   "id": "18436fd9",
   "metadata": {},
   "outputs": [
    {
     "name": "stdout",
     "output_type": "stream",
     "text": [
      "Buenas tardes Victor Tinoco\n"
     ]
    }
   ],
   "source": [
    "#Forma clasica, concatenar con +\n",
    "nombre=\"Victor Tinoco\"\n",
    "print(\"Buenas tardes \" + nombre)"
   ]
  },
  {
   "cell_type": "code",
   "execution_count": 39,
   "id": "02655f46",
   "metadata": {},
   "outputs": [
    {
     "name": "stdout",
     "output_type": "stream",
     "text": [
      "Hola Victor Tinoco ya se que tienes 23 años\n"
     ]
    }
   ],
   "source": [
    "#Utilizando el .format()\n",
    "nombre=\"Victor Tinoco\"\n",
    "edad=23\n",
    "print(\"Hola {} ya se que tienes {} años\".format(nombre, edad))"
   ]
  },
  {
   "cell_type": "code",
   "execution_count": 42,
   "id": "7525ecd8",
   "metadata": {},
   "outputs": [
    {
     "name": "stdout",
     "output_type": "stream",
     "text": [
      "10/3 es= 3.3333333333333335\n",
      "10/3 es= 3.33\n"
     ]
    }
   ],
   "source": [
    "#Dar formato a numeros con muchos decimales\n",
    "resultado=10/3\n",
    "print(\"10/3 es= {}\".format(resultado))\n",
    "print(\"10/3 es= {r:1.2f}\".format(r=resultado))"
   ]
  },
  {
   "cell_type": "code",
   "execution_count": 43,
   "id": "3014ae66",
   "metadata": {},
   "outputs": [
    {
     "name": "stdout",
     "output_type": "stream",
     "text": [
      "Buenos dias Dafne Huertas ya se que tienes 19 años\n"
     ]
    }
   ],
   "source": [
    "#La funcion f , esta disponible desde la version 1.6\n",
    "nombre= \"Dafne Huertas\"\n",
    "edad=19\n",
    "print(f\"Buenos dias {nombre} ya se que tienes {edad} años\")"
   ]
  },
  {
   "cell_type": "code",
   "execution_count": 44,
   "id": "f022348b",
   "metadata": {},
   "outputs": [
    {
     "name": "stdout",
     "output_type": "stream",
     "text": [
      "10/3 es= 3.3333333333333335\n",
      "10/3 es= 3.33\n"
     ]
    }
   ],
   "source": [
    "#Dar formato a numeros con muchos decimales con f\n",
    "resultado=10/3\n",
    "print(f\"10/3 es= {resultado}\")\n",
    "print(f\"10/3 es= {resultado:1.2f}\")"
   ]
  },
  {
   "cell_type": "code",
   "execution_count": null,
   "id": "9422f348",
   "metadata": {},
   "outputs": [],
   "source": []
  }
 ],
 "metadata": {
  "kernelspec": {
   "display_name": "Python 3 (ipykernel)",
   "language": "python",
   "name": "python3"
  },
  "language_info": {
   "codemirror_mode": {
    "name": "ipython",
    "version": 3
   },
   "file_extension": ".py",
   "mimetype": "text/x-python",
   "name": "python",
   "nbconvert_exporter": "python",
   "pygments_lexer": "ipython3",
   "version": "3.9.12"
  }
 },
 "nbformat": 4,
 "nbformat_minor": 5
}
