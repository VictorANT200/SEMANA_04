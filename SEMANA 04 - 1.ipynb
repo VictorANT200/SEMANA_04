{
 "cells": [
  {
   "cell_type": "markdown",
   "id": "26a71a04",
   "metadata": {},
   "source": [
    "# SEMANA 04\n",
    "Tinoco Aguilar Victor Antonio"
   ]
  },
  {
   "cell_type": "markdown",
   "id": "3a9465be",
   "metadata": {},
   "source": [
    "Agenda\n",
    "1.numeros\n",
    "2.variables\n"
   ]
  },
  {
   "cell_type": "code",
   "execution_count": 2,
   "id": "8fb3e5f3",
   "metadata": {},
   "outputs": [
    {
     "data": {
      "text/plain": [
       "8.0"
      ]
     },
     "execution_count": 2,
     "metadata": {},
     "output_type": "execute_result"
    }
   ],
   "source": [
    "72/9"
   ]
  },
  {
   "cell_type": "code",
   "execution_count": 3,
   "id": "127758da",
   "metadata": {},
   "outputs": [
    {
     "data": {
      "text/plain": [
       "30"
      ]
     },
     "execution_count": 3,
     "metadata": {},
     "output_type": "execute_result"
    }
   ],
   "source": [
    "5*6"
   ]
  },
  {
   "cell_type": "code",
   "execution_count": null,
   "id": "0997b47e",
   "metadata": {},
   "outputs": [],
   "source": []
  }
 ],
 "metadata": {
  "kernelspec": {
   "display_name": "Python 3 (ipykernel)",
   "language": "python",
   "name": "python3"
  },
  "language_info": {
   "codemirror_mode": {
    "name": "ipython",
    "version": 3
   },
   "file_extension": ".py",
   "mimetype": "text/x-python",
   "name": "python",
   "nbconvert_exporter": "python",
   "pygments_lexer": "ipython3",
   "version": "3.9.12"
  }
 },
 "nbformat": 4,
 "nbformat_minor": 5
}
